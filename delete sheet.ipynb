{
 "cells": [
  {
   "cell_type": "markdown",
   "id": "881a0af3",
   "metadata": {},
   "source": [
    "## 环境\n",
    "- 编辑器：vscode\n",
    "- 编译器：python3.10.4\n",
    "\n",
    "## 包\n",
    "- openpyxl\n",
    "- os"
   ]
  },
  {
   "cell_type": "markdown",
   "id": "fa11b7da",
   "metadata": {},
   "source": [
    "导入包"
   ]
  },
  {
   "cell_type": "code",
   "execution_count": 2,
   "id": "752d8fd3",
   "metadata": {},
   "outputs": [],
   "source": [
    "import openpyxl\n",
    "import os"
   ]
  },
  {
   "cell_type": "markdown",
   "id": "39f4bcee",
   "metadata": {},
   "source": [
    "新建一个列表用来存放路径\n",
    "\n",
    "指定要删除的sheet名'Test'\n",
    "\n",
    "在当前程序所在目录遍历xlsx，并取出文件名存入filelist"
   ]
  },
  {
   "cell_type": "code",
   "execution_count": 3,
   "id": "6a0dab20",
   "metadata": {},
   "outputs": [
    {
     "data": {
      "text/plain": [
       "['.\\\\process data\\\\1 - 副本 (2) - 副本.xlsx',\n",
       " '.\\\\process data\\\\1 - 副本 (2).xlsx',\n",
       " '.\\\\process data\\\\1 - 副本 (3).xlsx',\n",
       " '.\\\\process data\\\\1 - 副本 - 副本 (2).xlsx',\n",
       " '.\\\\process data\\\\1 - 副本 - 副本 - 副本.xlsx',\n",
       " '.\\\\process data\\\\1 - 副本 - 副本.xlsx',\n",
       " '.\\\\process data\\\\1 - 副本.xlsx',\n",
       " '.\\\\process data\\\\1.xlsx']"
      ]
     },
     "execution_count": 3,
     "metadata": {},
     "output_type": "execute_result"
    }
   ],
   "source": [
    "filelist = []\n",
    "sheet_name = 'Test'\n",
    "for root, dirs, files in os.walk(\".\", topdown=False):\n",
    "    for name in files:\n",
    "        str = os.path.join(root, name)\n",
    "        if str.split('.')[-1] == 'xlsx':\n",
    "            filelist.append(str)\n",
    "\n",
    "filelist"
   ]
  },
  {
   "cell_type": "markdown",
   "id": "8934dccd",
   "metadata": {},
   "source": [
    "对filelist进行循环\n",
    "\n",
    "首先打开工作簿\n",
    "\n",
    "然后得到要删除的工作表并调用remove方法移除\n",
    "\n",
    "最后以原文件名保存\n",
    "\n",
    "其中若误将不存在特定sheet的文件放入，做了优化提示"
   ]
  },
  {
   "cell_type": "code",
   "execution_count": 9,
   "id": "edd4cd1b",
   "metadata": {},
   "outputs": [
    {
     "name": "stdout",
     "output_type": "stream",
     "text": [
      ".\\process data\\1 - 副本 (2) - 副本.xlsx的指定Sheet不存在，故不作处理\n",
      ".\\process data\\1 - 副本 (2).xlsx的指定Sheet不存在，故不作处理\n",
      ".\\process data\\1 - 副本 (3).xlsx的指定Sheet不存在，故不作处理\n",
      ".\\process data\\1 - 副本 - 副本 (2).xlsx的指定Sheet不存在，故不作处理\n",
      ".\\process data\\1 - 副本 - 副本 - 副本.xlsx的指定Sheet不存在，故不作处理\n",
      ".\\process data\\1 - 副本 - 副本.xlsx的指定Sheet不存在，故不作处理\n",
      ".\\process data\\1 - 副本.xlsx的指定Sheet不存在，故不作处理\n",
      ".\\process data\\1.xlsx delete successfully!\n"
     ]
    }
   ],
   "source": [
    "for i in range(len(filelist)):\n",
    "    workbook = openpyxl.load_workbook(filelist[i])\n",
    "    # 删除目标Sheet\n",
    "    if sheet_name in workbook:\n",
    "        worksheet = workbook[sheet_name]\n",
    "        workbook.remove(worksheet)\n",
    "        workbook.save(filelist[i])\n",
    "        \n",
    "        print(filelist[i]+' delete successfully!')\n",
    "    else:\n",
    "        print(filelist[i]+'的指定Sheet不存在，故不作处理')"
   ]
  }
 ],
 "metadata": {
  "kernelspec": {
   "display_name": "Python 3.10.4 ('python310')",
   "language": "python",
   "name": "python3"
  },
  "language_info": {
   "codemirror_mode": {
    "name": "ipython",
    "version": 3
   },
   "file_extension": ".py",
   "mimetype": "text/x-python",
   "name": "python",
   "nbconvert_exporter": "python",
   "pygments_lexer": "ipython3",
   "version": "3.10.4"
  },
  "vscode": {
   "interpreter": {
    "hash": "acbcb29831be96e84a6443ea4df667d66d06f2bf024859ff7cb6d217fa4be111"
   }
  }
 },
 "nbformat": 4,
 "nbformat_minor": 5
}
